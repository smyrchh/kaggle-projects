{
 "cells": [
  {
   "cell_type": "code",
   "execution_count": 1,
   "id": "a78c4b7b",
   "metadata": {
    "_cell_guid": "b1076dfc-b9ad-4769-8c92-a6c4dae69d19",
    "_uuid": "8f2839f25d086af736a60e9eeb907d3b93b6e0e5",
    "execution": {
     "iopub.execute_input": "2025-05-09T16:12:08.747613Z",
     "iopub.status.busy": "2025-05-09T16:12:08.747313Z",
     "iopub.status.idle": "2025-05-09T16:12:10.673087Z",
     "shell.execute_reply": "2025-05-09T16:12:10.672043Z"
    },
    "papermill": {
     "duration": 1.93076,
     "end_time": "2025-05-09T16:12:10.674830",
     "exception": false,
     "start_time": "2025-05-09T16:12:08.744070",
     "status": "completed"
    },
    "tags": []
   },
   "outputs": [
    {
     "name": "stdout",
     "output_type": "stream",
     "text": [
      "/kaggle/input/spaceship-titanic/sample_submission.csv\n",
      "/kaggle/input/spaceship-titanic/train.csv\n",
      "/kaggle/input/spaceship-titanic/test.csv\n"
     ]
    }
   ],
   "source": [
    "# This Python 3 environment comes with many helpful analytics libraries installed\n",
    "# It is defined by the kaggle/python Docker image: https://github.com/kaggle/docker-python\n",
    "# For example, here's several helpful packages to load\n",
    "\n",
    "import numpy as np # linear algebra\n",
    "import pandas as pd # data processing, CSV file I/O (e.g. pd.read_csv)\n",
    "\n",
    "# Input data files are available in the read-only \"../input/\" directory\n",
    "# For example, running this (by clicking run or pressing Shift+Enter) will list all files under the input directory\n",
    "\n",
    "import os\n",
    "for dirname, _, filenames in os.walk('/kaggle/input'):\n",
    "    for filename in filenames:\n",
    "        print(os.path.join(dirname, filename))\n",
    "\n",
    "# You can write up to 20GB to the current directory (/kaggle/working/) that gets preserved as output when you create a version using \"Save & Run All\" \n",
    "# You can also write temporary files to /kaggle/temp/, but they won't be saved outside of the current session"
   ]
  },
  {
   "cell_type": "code",
   "execution_count": 2,
   "id": "16298d48",
   "metadata": {
    "execution": {
     "iopub.execute_input": "2025-05-09T16:12:10.680230Z",
     "iopub.status.busy": "2025-05-09T16:12:10.679768Z",
     "iopub.status.idle": "2025-05-09T16:12:10.783277Z",
     "shell.execute_reply": "2025-05-09T16:12:10.782381Z"
    },
    "papermill": {
     "duration": 0.107827,
     "end_time": "2025-05-09T16:12:10.784838",
     "exception": false,
     "start_time": "2025-05-09T16:12:10.677011",
     "status": "completed"
    },
    "tags": []
   },
   "outputs": [],
   "source": [
    "train_data = pd.read_csv('/kaggle/input/spaceship-titanic/train.csv')\n",
    "test_data = pd.read_csv('/kaggle/input/spaceship-titanic/test.csv')"
   ]
  },
  {
   "cell_type": "code",
   "execution_count": 3,
   "id": "e25fc7c4",
   "metadata": {
    "execution": {
     "iopub.execute_input": "2025-05-09T16:12:10.789741Z",
     "iopub.status.busy": "2025-05-09T16:12:10.789428Z",
     "iopub.status.idle": "2025-05-09T16:12:17.099014Z",
     "shell.execute_reply": "2025-05-09T16:12:17.097230Z"
    },
    "papermill": {
     "duration": 6.314133,
     "end_time": "2025-05-09T16:12:17.100891",
     "exception": false,
     "start_time": "2025-05-09T16:12:10.786758",
     "status": "completed"
    },
    "tags": []
   },
   "outputs": [
    {
     "name": "stdout",
     "output_type": "stream",
     "text": [
      "Accuracy: 0.8263369752731455\n",
      "              precision    recall  f1-score   support\n",
      "\n",
      "       False       0.83      0.82      0.82       867\n",
      "        True       0.82      0.83      0.83       872\n",
      "\n",
      "    accuracy                           0.83      1739\n",
      "   macro avg       0.83      0.83      0.83      1739\n",
      "weighted avg       0.83      0.83      0.83      1739\n",
      "\n",
      "Submission file created!\n"
     ]
    }
   ],
   "source": [
    "from sklearn.pipeline import Pipeline\n",
    "from sklearn.impute import SimpleImputer\n",
    "from sklearn.preprocessing import OneHotEncoder\n",
    "from sklearn.compose import ColumnTransformer\n",
    "from sklearn.model_selection import train_test_split\n",
    "from xgboost import XGBClassifier\n",
    "from sklearn.metrics import accuracy_score\n",
    "from sklearn.metrics import classification_report\n",
    "\n",
    "train_data[['Cabin_Deck', 'Cabin_Num', 'Cabin_Side']] = train_data['Cabin'].str.split('/', expand=True)\n",
    "test_data[['Cabin_Deck', 'Cabin_Num', 'Cabin_Side']] = test_data['Cabin'].str.split('/', expand=True)\n",
    "\n",
    "# Separate target\n",
    "y = train_data[\"Transported\"]\n",
    "X = train_data.drop(columns=[\"Transported\", \"PassengerId\"])  # Remove target + ID\n",
    "test_ids = test_data[\"PassengerId\"]\n",
    "X_test_raw = test_data.drop(columns=[\"PassengerId\"])\n",
    "\n",
    "\n",
    "\n",
    "train_data['Cabin_Num'] = pd.to_numeric(train_data['Cabin_Num'], errors='coerce')\n",
    "test_data['Cabin_Num'] = pd.to_numeric(test_data['Cabin_Num'], errors='coerce')\n",
    "\n",
    "\n",
    "\n",
    "\n",
    "\n",
    "num_features = X.select_dtypes(include=['int64', 'float64']).columns.tolist()\n",
    "cat_features = X.select_dtypes(include='object').columns.tolist()\n",
    "\n",
    "if 'Cabin_Num' not in num_features:\n",
    "    num_features.append('Cabin_Num')\n",
    "for col in ['Cabin_Deck', 'Cabin_Side']:\n",
    "    if col not in cat_features:\n",
    "        cat_features.append(col)\n",
    "\n",
    "\n",
    "numeric_pipeline = Pipeline([\n",
    "    (\"imputer\", SimpleImputer(strategy=\"median\")),\n",
    "])\n",
    "\n",
    "categorical_pipeline = Pipeline([\n",
    "    (\"imputer\", SimpleImputer(strategy=\"most_frequent\")),\n",
    "    (\"encoder\", OneHotEncoder(handle_unknown='ignore'))\n",
    "])\n",
    "\n",
    "\n",
    "preprocessor = ColumnTransformer([\n",
    "    (\"num\", numeric_pipeline, num_features),\n",
    "    (\"cat\", categorical_pipeline, cat_features)\n",
    "])\n",
    "\n",
    "\n",
    "X_processed = preprocessor.fit_transform(X)\n",
    "X_test_processed = preprocessor.transform(X_test_raw)\n",
    "\n",
    "\n",
    "X_train, X_val, y_train, y_val = train_test_split(X_processed, y, test_size=0.2, random_state=70)\n",
    "\n",
    "\n",
    "model = XGBClassifier(\n",
    "    learning_rate=0.05,\n",
    "    max_depth=5,\n",
    "    n_estimators=300,\n",
    "    subsample=0.8,\n",
    "    colsample_bytree=0.8,\n",
    "    use_label_encoder=False,\n",
    "    eval_metric='logloss'\n",
    ")\n",
    "\n",
    "model.fit(X_train, y_train)\n",
    "\n",
    "\n",
    "y_val_pred = model.predict(X_val)\n",
    "print(\"Accuracy:\", accuracy_score(y_val, y_val_pred))\n",
    "print(classification_report(y_val, y_val_pred))\n",
    "\n",
    "\n",
    "y_test_pred = model.predict(X_test_processed)\n",
    "\n",
    "\n",
    "submission = pd.DataFrame({\n",
    "    'PassengerId': test_ids,\n",
    "    'Transported': y_test_pred.astype(bool)\n",
    "})\n",
    "submission.to_csv(\"submission.csv\", index=False)\n",
    "print(\"Submission file created!\")"
   ]
  }
 ],
 "metadata": {
  "kaggle": {
   "accelerator": "none",
   "dataSources": [
    {
     "databundleVersionId": 3220602,
     "sourceId": 34377,
     "sourceType": "competition"
    }
   ],
   "dockerImageVersionId": 31012,
   "isGpuEnabled": false,
   "isInternetEnabled": true,
   "language": "python",
   "sourceType": "notebook"
  },
  "kernelspec": {
   "display_name": "Python 3",
   "language": "python",
   "name": "python3"
  },
  "language_info": {
   "codemirror_mode": {
    "name": "ipython",
    "version": 3
   },
   "file_extension": ".py",
   "mimetype": "text/x-python",
   "name": "python",
   "nbconvert_exporter": "python",
   "pygments_lexer": "ipython3",
   "version": "3.11.11"
  },
  "papermill": {
   "default_parameters": {},
   "duration": 13.948335,
   "end_time": "2025-05-09T16:12:17.823692",
   "environment_variables": {},
   "exception": null,
   "input_path": "__notebook__.ipynb",
   "output_path": "__notebook__.ipynb",
   "parameters": {},
   "start_time": "2025-05-09T16:12:03.875357",
   "version": "2.6.0"
  }
 },
 "nbformat": 4,
 "nbformat_minor": 5
}

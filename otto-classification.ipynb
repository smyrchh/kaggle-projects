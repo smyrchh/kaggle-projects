{
 "cells": [
  {
   "cell_type": "code",
   "execution_count": 1,
   "id": "6e7c9a9e",
   "metadata": {
    "_cell_guid": "b1076dfc-b9ad-4769-8c92-a6c4dae69d19",
    "_uuid": "8f2839f25d086af736a60e9eeb907d3b93b6e0e5",
    "execution": {
     "iopub.execute_input": "2025-05-14T04:47:06.941564Z",
     "iopub.status.busy": "2025-05-14T04:47:06.940676Z",
     "iopub.status.idle": "2025-05-14T04:47:08.758709Z",
     "shell.execute_reply": "2025-05-14T04:47:08.757659Z"
    },
    "papermill": {
     "duration": 1.823859,
     "end_time": "2025-05-14T04:47:08.760331",
     "exception": false,
     "start_time": "2025-05-14T04:47:06.936472",
     "status": "completed"
    },
    "tags": []
   },
   "outputs": [
    {
     "name": "stdout",
     "output_type": "stream",
     "text": [
      "/kaggle/input/otto-group-product-classification-challenge/sampleSubmission.csv\n",
      "/kaggle/input/otto-group-product-classification-challenge/train.csv\n",
      "/kaggle/input/otto-group-product-classification-challenge/test.csv\n"
     ]
    }
   ],
   "source": [
    "# This Python 3 environment comes with many helpful analytics libraries installed\n",
    "# It is defined by the kaggle/python Docker image: https://github.com/kaggle/docker-python\n",
    "# For example, here's several helpful packages to load\n",
    "\n",
    "\n",
    "import numpy as np # linear algebra\n",
    "import pandas as pd # data processing, CSV file I/O (e.g. pd.read_csv)\n",
    "\n",
    "# Input data files are available in the read-only \"../input/\" directory\n",
    "# For example, running this (by clicking run or pressing Shift+Enter) will list all files under the input directory\n",
    "\n",
    "import os\n",
    "for dirname, _, filenames in os.walk('/kaggle/input'):\n",
    "    for filename in filenames:\n",
    "        print(os.path.join(dirname, filename))\n",
    "\n",
    "# You can write up to 20GB to the current directory (/kaggle/working/) that gets preserved as output when you create a version using \"Save & Run All\" \n",
    "# You can also write temporary files to /kaggle/temp/, but they won't be saved outside of the current session"
   ]
  },
  {
   "cell_type": "code",
   "execution_count": 2,
   "id": "50feb725",
   "metadata": {
    "execution": {
     "iopub.execute_input": "2025-05-14T04:47:08.766930Z",
     "iopub.status.busy": "2025-05-14T04:47:08.766524Z",
     "iopub.status.idle": "2025-05-14T04:47:10.624796Z",
     "shell.execute_reply": "2025-05-14T04:47:10.623746Z"
    },
    "papermill": {
     "duration": 1.863199,
     "end_time": "2025-05-14T04:47:10.626503",
     "exception": false,
     "start_time": "2025-05-14T04:47:08.763304",
     "status": "completed"
    },
    "tags": []
   },
   "outputs": [],
   "source": [
    "from sklearn.model_selection import train_test_split\n",
    "from sklearn.preprocessing import StandardScaler, LabelEncoder\n",
    "from sklearn.metrics import log_loss\n",
    "from xgboost import XGBClassifier"
   ]
  },
  {
   "cell_type": "code",
   "execution_count": 3,
   "id": "d5ea684d",
   "metadata": {
    "execution": {
     "iopub.execute_input": "2025-05-14T04:47:10.632737Z",
     "iopub.status.busy": "2025-05-14T04:47:10.632303Z",
     "iopub.status.idle": "2025-05-14T04:47:12.338458Z",
     "shell.execute_reply": "2025-05-14T04:47:12.337693Z"
    },
    "papermill": {
     "duration": 1.710851,
     "end_time": "2025-05-14T04:47:12.339970",
     "exception": false,
     "start_time": "2025-05-14T04:47:10.629119",
     "status": "completed"
    },
    "tags": []
   },
   "outputs": [],
   "source": [
    "train_df = pd.read_csv('/kaggle/input/otto-group-product-classification-challenge/train.csv')\n",
    "test_df = pd.read_csv('/kaggle/input/otto-group-product-classification-challenge/test.csv')\n",
    "sample_submission = pd.read_csv('/kaggle/input/otto-group-product-classification-challenge/sampleSubmission.csv')"
   ]
  },
  {
   "cell_type": "code",
   "execution_count": 4,
   "id": "99673018",
   "metadata": {
    "execution": {
     "iopub.execute_input": "2025-05-14T04:47:12.346211Z",
     "iopub.status.busy": "2025-05-14T04:47:12.345647Z",
     "iopub.status.idle": "2025-05-14T04:47:12.376594Z",
     "shell.execute_reply": "2025-05-14T04:47:12.375765Z"
    },
    "papermill": {
     "duration": 0.035414,
     "end_time": "2025-05-14T04:47:12.377911",
     "exception": false,
     "start_time": "2025-05-14T04:47:12.342497",
     "status": "completed"
    },
    "tags": []
   },
   "outputs": [
    {
     "data": {
      "text/html": [
       "<div>\n",
       "<style scoped>\n",
       "    .dataframe tbody tr th:only-of-type {\n",
       "        vertical-align: middle;\n",
       "    }\n",
       "\n",
       "    .dataframe tbody tr th {\n",
       "        vertical-align: top;\n",
       "    }\n",
       "\n",
       "    .dataframe thead th {\n",
       "        text-align: right;\n",
       "    }\n",
       "</style>\n",
       "<table border=\"1\" class=\"dataframe\">\n",
       "  <thead>\n",
       "    <tr style=\"text-align: right;\">\n",
       "      <th></th>\n",
       "      <th>id</th>\n",
       "      <th>feat_1</th>\n",
       "      <th>feat_2</th>\n",
       "      <th>feat_3</th>\n",
       "      <th>feat_4</th>\n",
       "      <th>feat_5</th>\n",
       "      <th>feat_6</th>\n",
       "      <th>feat_7</th>\n",
       "      <th>feat_8</th>\n",
       "      <th>feat_9</th>\n",
       "      <th>...</th>\n",
       "      <th>feat_85</th>\n",
       "      <th>feat_86</th>\n",
       "      <th>feat_87</th>\n",
       "      <th>feat_88</th>\n",
       "      <th>feat_89</th>\n",
       "      <th>feat_90</th>\n",
       "      <th>feat_91</th>\n",
       "      <th>feat_92</th>\n",
       "      <th>feat_93</th>\n",
       "      <th>target</th>\n",
       "    </tr>\n",
       "  </thead>\n",
       "  <tbody>\n",
       "    <tr>\n",
       "      <th>0</th>\n",
       "      <td>1</td>\n",
       "      <td>1</td>\n",
       "      <td>0</td>\n",
       "      <td>0</td>\n",
       "      <td>0</td>\n",
       "      <td>0</td>\n",
       "      <td>0</td>\n",
       "      <td>0</td>\n",
       "      <td>0</td>\n",
       "      <td>0</td>\n",
       "      <td>...</td>\n",
       "      <td>1</td>\n",
       "      <td>0</td>\n",
       "      <td>0</td>\n",
       "      <td>0</td>\n",
       "      <td>0</td>\n",
       "      <td>0</td>\n",
       "      <td>0</td>\n",
       "      <td>0</td>\n",
       "      <td>0</td>\n",
       "      <td>Class_1</td>\n",
       "    </tr>\n",
       "    <tr>\n",
       "      <th>1</th>\n",
       "      <td>2</td>\n",
       "      <td>0</td>\n",
       "      <td>0</td>\n",
       "      <td>0</td>\n",
       "      <td>0</td>\n",
       "      <td>0</td>\n",
       "      <td>0</td>\n",
       "      <td>0</td>\n",
       "      <td>1</td>\n",
       "      <td>0</td>\n",
       "      <td>...</td>\n",
       "      <td>0</td>\n",
       "      <td>0</td>\n",
       "      <td>0</td>\n",
       "      <td>0</td>\n",
       "      <td>0</td>\n",
       "      <td>0</td>\n",
       "      <td>0</td>\n",
       "      <td>0</td>\n",
       "      <td>0</td>\n",
       "      <td>Class_1</td>\n",
       "    </tr>\n",
       "    <tr>\n",
       "      <th>2</th>\n",
       "      <td>3</td>\n",
       "      <td>0</td>\n",
       "      <td>0</td>\n",
       "      <td>0</td>\n",
       "      <td>0</td>\n",
       "      <td>0</td>\n",
       "      <td>0</td>\n",
       "      <td>0</td>\n",
       "      <td>1</td>\n",
       "      <td>0</td>\n",
       "      <td>...</td>\n",
       "      <td>0</td>\n",
       "      <td>0</td>\n",
       "      <td>0</td>\n",
       "      <td>0</td>\n",
       "      <td>0</td>\n",
       "      <td>0</td>\n",
       "      <td>0</td>\n",
       "      <td>0</td>\n",
       "      <td>0</td>\n",
       "      <td>Class_1</td>\n",
       "    </tr>\n",
       "    <tr>\n",
       "      <th>3</th>\n",
       "      <td>4</td>\n",
       "      <td>1</td>\n",
       "      <td>0</td>\n",
       "      <td>0</td>\n",
       "      <td>1</td>\n",
       "      <td>6</td>\n",
       "      <td>1</td>\n",
       "      <td>5</td>\n",
       "      <td>0</td>\n",
       "      <td>0</td>\n",
       "      <td>...</td>\n",
       "      <td>0</td>\n",
       "      <td>1</td>\n",
       "      <td>2</td>\n",
       "      <td>0</td>\n",
       "      <td>0</td>\n",
       "      <td>0</td>\n",
       "      <td>0</td>\n",
       "      <td>0</td>\n",
       "      <td>0</td>\n",
       "      <td>Class_1</td>\n",
       "    </tr>\n",
       "    <tr>\n",
       "      <th>4</th>\n",
       "      <td>5</td>\n",
       "      <td>0</td>\n",
       "      <td>0</td>\n",
       "      <td>0</td>\n",
       "      <td>0</td>\n",
       "      <td>0</td>\n",
       "      <td>0</td>\n",
       "      <td>0</td>\n",
       "      <td>0</td>\n",
       "      <td>0</td>\n",
       "      <td>...</td>\n",
       "      <td>1</td>\n",
       "      <td>0</td>\n",
       "      <td>0</td>\n",
       "      <td>0</td>\n",
       "      <td>0</td>\n",
       "      <td>1</td>\n",
       "      <td>0</td>\n",
       "      <td>0</td>\n",
       "      <td>0</td>\n",
       "      <td>Class_1</td>\n",
       "    </tr>\n",
       "  </tbody>\n",
       "</table>\n",
       "<p>5 rows × 95 columns</p>\n",
       "</div>"
      ],
      "text/plain": [
       "   id  feat_1  feat_2  feat_3  feat_4  feat_5  feat_6  feat_7  feat_8  feat_9  \\\n",
       "0   1       1       0       0       0       0       0       0       0       0   \n",
       "1   2       0       0       0       0       0       0       0       1       0   \n",
       "2   3       0       0       0       0       0       0       0       1       0   \n",
       "3   4       1       0       0       1       6       1       5       0       0   \n",
       "4   5       0       0       0       0       0       0       0       0       0   \n",
       "\n",
       "   ...  feat_85  feat_86  feat_87  feat_88  feat_89  feat_90  feat_91  \\\n",
       "0  ...        1        0        0        0        0        0        0   \n",
       "1  ...        0        0        0        0        0        0        0   \n",
       "2  ...        0        0        0        0        0        0        0   \n",
       "3  ...        0        1        2        0        0        0        0   \n",
       "4  ...        1        0        0        0        0        1        0   \n",
       "\n",
       "   feat_92  feat_93   target  \n",
       "0        0        0  Class_1  \n",
       "1        0        0  Class_1  \n",
       "2        0        0  Class_1  \n",
       "3        0        0  Class_1  \n",
       "4        0        0  Class_1  \n",
       "\n",
       "[5 rows x 95 columns]"
      ]
     },
     "execution_count": 4,
     "metadata": {},
     "output_type": "execute_result"
    }
   ],
   "source": [
    "train_df.head()"
   ]
  },
  {
   "cell_type": "code",
   "execution_count": 5,
   "id": "398142c8",
   "metadata": {
    "execution": {
     "iopub.execute_input": "2025-05-14T04:47:12.384782Z",
     "iopub.status.busy": "2025-05-14T04:47:12.384102Z",
     "iopub.status.idle": "2025-05-14T04:47:12.451003Z",
     "shell.execute_reply": "2025-05-14T04:47:12.450311Z"
    },
    "papermill": {
     "duration": 0.071698,
     "end_time": "2025-05-14T04:47:12.452548",
     "exception": false,
     "start_time": "2025-05-14T04:47:12.380850",
     "status": "completed"
    },
    "tags": []
   },
   "outputs": [],
   "source": [
    "y = train_df[\"target\"]\n",
    "X = train_df.drop(columns=[\"target\", \"id\"])  \n",
    "X_test = test_df.drop(['id'], axis=1)"
   ]
  },
  {
   "cell_type": "code",
   "execution_count": 6,
   "id": "dbe35dd0",
   "metadata": {
    "execution": {
     "iopub.execute_input": "2025-05-14T04:47:12.459031Z",
     "iopub.status.busy": "2025-05-14T04:47:12.458484Z",
     "iopub.status.idle": "2025-05-14T04:47:12.473461Z",
     "shell.execute_reply": "2025-05-14T04:47:12.472778Z"
    },
    "papermill": {
     "duration": 0.019366,
     "end_time": "2025-05-14T04:47:12.474704",
     "exception": false,
     "start_time": "2025-05-14T04:47:12.455338",
     "status": "completed"
    },
    "tags": []
   },
   "outputs": [],
   "source": [
    "label_encoder = LabelEncoder()\n",
    "y_encoded = label_encoder.fit_transform(y)"
   ]
  },
  {
   "cell_type": "code",
   "execution_count": 7,
   "id": "dc4cc8d3",
   "metadata": {
    "execution": {
     "iopub.execute_input": "2025-05-14T04:47:12.481166Z",
     "iopub.status.busy": "2025-05-14T04:47:12.480611Z",
     "iopub.status.idle": "2025-05-14T04:47:12.718031Z",
     "shell.execute_reply": "2025-05-14T04:47:12.717234Z"
    },
    "papermill": {
     "duration": 0.242256,
     "end_time": "2025-05-14T04:47:12.719647",
     "exception": false,
     "start_time": "2025-05-14T04:47:12.477391",
     "status": "completed"
    },
    "tags": []
   },
   "outputs": [],
   "source": [
    "scaler = StandardScaler()\n",
    "X_scaled = scaler.fit_transform(X)\n",
    "X_test_scaled = scaler.transform(X_test)"
   ]
  },
  {
   "cell_type": "code",
   "execution_count": 8,
   "id": "891a87dd",
   "metadata": {
    "execution": {
     "iopub.execute_input": "2025-05-14T04:47:12.726763Z",
     "iopub.status.busy": "2025-05-14T04:47:12.726186Z",
     "iopub.status.idle": "2025-05-14T04:47:12.830252Z",
     "shell.execute_reply": "2025-05-14T04:47:12.829416Z"
    },
    "papermill": {
     "duration": 0.109268,
     "end_time": "2025-05-14T04:47:12.831830",
     "exception": false,
     "start_time": "2025-05-14T04:47:12.722562",
     "status": "completed"
    },
    "tags": []
   },
   "outputs": [],
   "source": [
    "X_train, X_val, y_train, y_val = train_test_split(X_scaled, y_encoded, test_size=0.2, stratify=y_encoded)"
   ]
  },
  {
   "cell_type": "code",
   "execution_count": 9,
   "id": "9072f414",
   "metadata": {
    "execution": {
     "iopub.execute_input": "2025-05-14T04:47:12.838838Z",
     "iopub.status.busy": "2025-05-14T04:47:12.838271Z",
     "iopub.status.idle": "2025-05-14T04:47:49.975746Z",
     "shell.execute_reply": "2025-05-14T04:47:49.974870Z"
    },
    "papermill": {
     "duration": 37.144094,
     "end_time": "2025-05-14T04:47:49.978734",
     "exception": false,
     "start_time": "2025-05-14T04:47:12.834640",
     "status": "completed"
    },
    "tags": []
   },
   "outputs": [
    {
     "name": "stdout",
     "output_type": "stream",
     "text": [
      "Log Loss: 0.4747\n",
      "✅ Submission file created: submission.csv\n"
     ]
    }
   ],
   "source": [
    "model = XGBClassifier(\n",
    "    learning_rate=0.06426980635477918,\n",
    "    max_depth=7,\n",
    "    n_estimators=379,\n",
    "    subsample= 0.8070259980080767,\n",
    "    colsample_bytree=0.8166031869068445,\n",
    "    use_label_encoder=False,\n",
    "    eval_metric='logloss'\n",
    ")\n",
    "\n",
    "model.fit(X_train, y_train)\n",
    "\n",
    "y_val_probs = model.predict_proba(X_val)  \n",
    "\n",
    "loss = log_loss(y_val, y_val_probs, labels=list(range(9)))  \n",
    "print(f\"Log Loss: {loss:.4f}\")\n",
    "\n",
    "\\\n",
    "test_probs = model.predict_proba(X_test_scaled)  \n",
    "\n",
    "\n",
    "submission = pd.DataFrame(test_probs, columns=sample_submission.columns[1:])  \n",
    "\n",
    "\n",
    "\n",
    "submission.insert(0, 'id', test_df['id'])\n",
    "\n",
    "\n",
    "submission.to_csv('submission.csv', index=False)\n",
    "print(\"✅ Submission file created: submission.csv\")"
   ]
  }
 ],
 "metadata": {
  "kaggle": {
   "accelerator": "none",
   "dataSources": [
    {
     "databundleVersionId": 860643,
     "sourceId": 4280,
     "sourceType": "competition"
    }
   ],
   "dockerImageVersionId": 31040,
   "isGpuEnabled": false,
   "isInternetEnabled": true,
   "language": "python",
   "sourceType": "notebook"
  },
  "kernelspec": {
   "display_name": "Python 3",
   "language": "python",
   "name": "python3"
  },
  "language_info": {
   "codemirror_mode": {
    "name": "ipython",
    "version": 3
   },
   "file_extension": ".py",
   "mimetype": "text/x-python",
   "name": "python",
   "nbconvert_exporter": "python",
   "pygments_lexer": "ipython3",
   "version": "3.11.11"
  },
  "papermill": {
   "default_parameters": {},
   "duration": 48.355712,
   "end_time": "2025-05-14T04:47:50.601486",
   "environment_variables": {},
   "exception": null,
   "input_path": "__notebook__.ipynb",
   "output_path": "__notebook__.ipynb",
   "parameters": {},
   "start_time": "2025-05-14T04:47:02.245774",
   "version": "2.6.0"
  }
 },
 "nbformat": 4,
 "nbformat_minor": 5
}

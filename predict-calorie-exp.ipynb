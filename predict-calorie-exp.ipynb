{
 "cells": [
  {
   "cell_type": "code",
   "execution_count": 1,
   "id": "77cd1265",
   "metadata": {
    "_cell_guid": "b1076dfc-b9ad-4769-8c92-a6c4dae69d19",
    "_uuid": "8f2839f25d086af736a60e9eeb907d3b93b6e0e5",
    "execution": {
     "iopub.execute_input": "2025-05-16T08:15:18.527942Z",
     "iopub.status.busy": "2025-05-16T08:15:18.527607Z",
     "iopub.status.idle": "2025-05-16T08:15:20.002745Z",
     "shell.execute_reply": "2025-05-16T08:15:20.001729Z"
    },
    "papermill": {
     "duration": 1.479774,
     "end_time": "2025-05-16T08:15:20.004289",
     "exception": false,
     "start_time": "2025-05-16T08:15:18.524515",
     "status": "completed"
    },
    "tags": []
   },
   "outputs": [
    {
     "name": "stdout",
     "output_type": "stream",
     "text": [
      "/kaggle/input/playground-series-s5e5/sample_submission.csv\n",
      "/kaggle/input/playground-series-s5e5/train.csv\n",
      "/kaggle/input/playground-series-s5e5/test.csv\n"
     ]
    }
   ],
   "source": [
    "# This Python 3 environment comes with many helpful analytics libraries installed\n",
    "# It is defined by the kaggle/python Docker image: https://github.com/kaggle/docker-python\n",
    "# For example, here's several helpful packages to load\n",
    "\n",
    "import numpy as np # linear algebra\n",
    "import pandas as pd # data processing, CSV file I/O (e.g. pd.read_csv)\n",
    "\n",
    "# Input data files are available in the read-only \"../input/\" directory\n",
    "# For example, running this (by clicking run or pressing Shift+Enter) will list all files under the input directory\n",
    "\n",
    "import os\n",
    "for dirname, _, filenames in os.walk('/kaggle/input'):\n",
    "    for filename in filenames:\n",
    "        print(os.path.join(dirname, filename))\n",
    "\n",
    "# You can write up to 20GB to the current directory (/kaggle/working/) that gets preserved as output when you create a version using \"Save & Run All\" \n",
    "# You can also write temporary files to /kaggle/temp/, but they won't be saved outside of the current session"
   ]
  },
  {
   "cell_type": "code",
   "execution_count": 2,
   "id": "19142551",
   "metadata": {
    "execution": {
     "iopub.execute_input": "2025-05-16T08:15:20.009674Z",
     "iopub.status.busy": "2025-05-16T08:15:20.008735Z",
     "iopub.status.idle": "2025-05-16T08:15:22.609944Z",
     "shell.execute_reply": "2025-05-16T08:15:22.609226Z"
    },
    "papermill": {
     "duration": 2.605311,
     "end_time": "2025-05-16T08:15:22.611475",
     "exception": false,
     "start_time": "2025-05-16T08:15:20.006164",
     "status": "completed"
    },
    "tags": []
   },
   "outputs": [],
   "source": [
    "import pandas as pd\n",
    "import numpy as np\n",
    "from sklearn.preprocessing import LabelEncoder, StandardScaler\n",
    "from sklearn.model_selection import KFold\n",
    "from sklearn.metrics import mean_absolute_error, mean_squared_log_error\n",
    "from xgboost import XGBRegressor\n",
    "\n",
    "\n",
    "train_df = pd.read_csv('/kaggle/input/playground-series-s5e5/train.csv')\n",
    "test_df = pd.read_csv('/kaggle/input/playground-series-s5e5/test.csv')\n",
    "sample_submission = pd.read_csv('/kaggle/input/playground-series-s5e5/sample_submission.csv')"
   ]
  },
  {
   "cell_type": "code",
   "execution_count": 3,
   "id": "4d4b371b",
   "metadata": {
    "execution": {
     "iopub.execute_input": "2025-05-16T08:15:22.615752Z",
     "iopub.status.busy": "2025-05-16T08:15:22.615351Z",
     "iopub.status.idle": "2025-05-16T08:15:22.638976Z",
     "shell.execute_reply": "2025-05-16T08:15:22.638253Z"
    },
    "papermill": {
     "duration": 0.026817,
     "end_time": "2025-05-16T08:15:22.640108",
     "exception": false,
     "start_time": "2025-05-16T08:15:22.613291",
     "status": "completed"
    },
    "tags": []
   },
   "outputs": [
    {
     "data": {
      "text/html": [
       "<div>\n",
       "<style scoped>\n",
       "    .dataframe tbody tr th:only-of-type {\n",
       "        vertical-align: middle;\n",
       "    }\n",
       "\n",
       "    .dataframe tbody tr th {\n",
       "        vertical-align: top;\n",
       "    }\n",
       "\n",
       "    .dataframe thead th {\n",
       "        text-align: right;\n",
       "    }\n",
       "</style>\n",
       "<table border=\"1\" class=\"dataframe\">\n",
       "  <thead>\n",
       "    <tr style=\"text-align: right;\">\n",
       "      <th></th>\n",
       "      <th>id</th>\n",
       "      <th>Sex</th>\n",
       "      <th>Age</th>\n",
       "      <th>Height</th>\n",
       "      <th>Weight</th>\n",
       "      <th>Duration</th>\n",
       "      <th>Heart_Rate</th>\n",
       "      <th>Body_Temp</th>\n",
       "      <th>Calories</th>\n",
       "    </tr>\n",
       "  </thead>\n",
       "  <tbody>\n",
       "    <tr>\n",
       "      <th>0</th>\n",
       "      <td>0</td>\n",
       "      <td>male</td>\n",
       "      <td>36</td>\n",
       "      <td>189.0</td>\n",
       "      <td>82.0</td>\n",
       "      <td>26.0</td>\n",
       "      <td>101.0</td>\n",
       "      <td>41.0</td>\n",
       "      <td>150.0</td>\n",
       "    </tr>\n",
       "    <tr>\n",
       "      <th>1</th>\n",
       "      <td>1</td>\n",
       "      <td>female</td>\n",
       "      <td>64</td>\n",
       "      <td>163.0</td>\n",
       "      <td>60.0</td>\n",
       "      <td>8.0</td>\n",
       "      <td>85.0</td>\n",
       "      <td>39.7</td>\n",
       "      <td>34.0</td>\n",
       "    </tr>\n",
       "    <tr>\n",
       "      <th>2</th>\n",
       "      <td>2</td>\n",
       "      <td>female</td>\n",
       "      <td>51</td>\n",
       "      <td>161.0</td>\n",
       "      <td>64.0</td>\n",
       "      <td>7.0</td>\n",
       "      <td>84.0</td>\n",
       "      <td>39.8</td>\n",
       "      <td>29.0</td>\n",
       "    </tr>\n",
       "    <tr>\n",
       "      <th>3</th>\n",
       "      <td>3</td>\n",
       "      <td>male</td>\n",
       "      <td>20</td>\n",
       "      <td>192.0</td>\n",
       "      <td>90.0</td>\n",
       "      <td>25.0</td>\n",
       "      <td>105.0</td>\n",
       "      <td>40.7</td>\n",
       "      <td>140.0</td>\n",
       "    </tr>\n",
       "    <tr>\n",
       "      <th>4</th>\n",
       "      <td>4</td>\n",
       "      <td>female</td>\n",
       "      <td>38</td>\n",
       "      <td>166.0</td>\n",
       "      <td>61.0</td>\n",
       "      <td>25.0</td>\n",
       "      <td>102.0</td>\n",
       "      <td>40.6</td>\n",
       "      <td>146.0</td>\n",
       "    </tr>\n",
       "  </tbody>\n",
       "</table>\n",
       "</div>"
      ],
      "text/plain": [
       "   id     Sex  Age  Height  Weight  Duration  Heart_Rate  Body_Temp  Calories\n",
       "0   0    male   36   189.0    82.0      26.0       101.0       41.0     150.0\n",
       "1   1  female   64   163.0    60.0       8.0        85.0       39.7      34.0\n",
       "2   2  female   51   161.0    64.0       7.0        84.0       39.8      29.0\n",
       "3   3    male   20   192.0    90.0      25.0       105.0       40.7     140.0\n",
       "4   4  female   38   166.0    61.0      25.0       102.0       40.6     146.0"
      ]
     },
     "execution_count": 3,
     "metadata": {},
     "output_type": "execute_result"
    }
   ],
   "source": [
    "train_df.head()"
   ]
  },
  {
   "cell_type": "code",
   "execution_count": 4,
   "id": "83b50624",
   "metadata": {
    "execution": {
     "iopub.execute_input": "2025-05-16T08:15:22.644297Z",
     "iopub.status.busy": "2025-05-16T08:15:22.644098Z",
     "iopub.status.idle": "2025-05-16T08:16:19.985011Z",
     "shell.execute_reply": "2025-05-16T08:16:19.984112Z"
    },
    "papermill": {
     "duration": 57.344717,
     "end_time": "2025-05-16T08:16:19.986504",
     "exception": false,
     "start_time": "2025-05-16T08:15:22.641787",
     "status": "completed"
    },
    "tags": []
   },
   "outputs": [
    {
     "name": "stdout",
     "output_type": "stream",
     "text": [
      "Fold 1 - MAE: 2.20, RMSLE: 0.0606\n",
      "Fold 2 - MAE: 2.20, RMSLE: 0.0607\n",
      "Fold 3 - MAE: 2.20, RMSLE: 0.0600\n",
      "Fold 4 - MAE: 2.20, RMSLE: 0.0604\n",
      "Fold 5 - MAE: 2.20, RMSLE: 0.0602\n",
      "\n",
      "Average MAE: 2.20\n",
      "Average RMSLE: 0.0604\n",
      "Submission file created: submission.csv\n"
     ]
    }
   ],
   "source": [
    "train_df['BPM'] = train_df['Heart_Rate'] * train_df['Duration']\n",
    "test_df['BPM'] = test_df['Heart_Rate'] * test_df['Duration']\n",
    "\n",
    "encoder = LabelEncoder()\n",
    "train_df['Sex'] = encoder.fit_transform(train_df['Sex'])\n",
    "test_df['Sex'] = encoder.transform(test_df['Sex'])\n",
    "\n",
    "\n",
    "X = train_df.drop('Calories', axis=1)\n",
    "y = train_df['Calories']\n",
    "\n",
    "scaler = StandardScaler()\n",
    "X_scaled = scaler.fit_transform(X)\n",
    "test_scaled = scaler.transform(test_df)\n",
    "\n",
    "kf = KFold(n_splits=5, shuffle=True, random_state=42)\n",
    "mae_scores = []\n",
    "rmsle_scores = []\n",
    "\n",
    "for fold, (train_idx, val_idx) in enumerate(kf.split(X_scaled)):\n",
    "    X_train, X_val = X_scaled[train_idx], X_scaled[val_idx]\n",
    "    y_train, y_val = y.iloc[train_idx], y.iloc[val_idx]\n",
    "    \n",
    "    y_train_log = np.log1p(y_train)\n",
    "    \n",
    "    model = XGBRegressor(n_estimators=500, learning_rate=0.05, max_depth=6, random_state=42)\n",
    "    model.fit(X_train, y_train_log)\n",
    "    \n",
    "    \n",
    "    val_preds_log = model.predict(X_val)\n",
    "    val_preds = np.expm1(val_preds_log)  \n",
    "    \n",
    "\n",
    "    val_preds = np.maximum(val_preds, 0)\n",
    "    \n",
    "    mae = mean_absolute_error(y_val, val_preds)\n",
    "    rmsle = np.sqrt(mean_squared_log_error(y_val, val_preds))\n",
    "    \n",
    "    print(f\"Fold {fold + 1} - MAE: {mae:.2f}, RMSLE: {rmsle:.4f}\")\n",
    "    \n",
    "    mae_scores.append(mae)\n",
    "    rmsle_scores.append(rmsle)\n",
    "\n",
    "print(f\"\\nAverage MAE: {np.mean(mae_scores):.2f}\")\n",
    "print(f\"Average RMSLE: {np.mean(rmsle_scores):.4f}\")\n",
    "\n",
    "\n",
    "y_log = np.log1p(y)\n",
    "final_model = XGBRegressor(n_estimators=500, learning_rate=0.05, max_depth=6, random_state=47)\n",
    "final_model.fit(X_scaled, y_log)\n",
    "\n",
    "\n",
    "test_preds_log = final_model.predict(test_scaled)\n",
    "test_preds = np.expm1(test_preds_log)\n",
    "test_preds = np.maximum(test_preds, 0)\n",
    "\n",
    "\n",
    "submission = sample_submission.copy()\n",
    "submission['Calories'] = test_preds\n",
    "submission.to_csv('submission.csv', index=False)\n",
    "print(\"Submission file created: submission.csv\")"
   ]
  }
 ],
 "metadata": {
  "kaggle": {
   "accelerator": "none",
   "dataSources": [
    {
     "databundleVersionId": 11893428,
     "sourceId": 91716,
     "sourceType": "competition"
    }
   ],
   "dockerImageVersionId": 31040,
   "isGpuEnabled": false,
   "isInternetEnabled": true,
   "language": "python",
   "sourceType": "notebook"
  },
  "kernelspec": {
   "display_name": "Python 3",
   "language": "python",
   "name": "python3"
  },
  "language_info": {
   "codemirror_mode": {
    "name": "ipython",
    "version": 3
   },
   "file_extension": ".py",
   "mimetype": "text/x-python",
   "name": "python",
   "nbconvert_exporter": "python",
   "pygments_lexer": "ipython3",
   "version": "3.11.11"
  },
  "papermill": {
   "default_parameters": {},
   "duration": 65.990421,
   "end_time": "2025-05-16T08:16:20.506562",
   "environment_variables": {},
   "exception": null,
   "input_path": "__notebook__.ipynb",
   "output_path": "__notebook__.ipynb",
   "parameters": {},
   "start_time": "2025-05-16T08:15:14.516141",
   "version": "2.6.0"
  }
 },
 "nbformat": 4,
 "nbformat_minor": 5
}

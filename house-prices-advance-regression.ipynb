{
 "cells": [
  {
   "cell_type": "code",
   "execution_count": 1,
   "id": "8056fb5e",
   "metadata": {
    "_cell_guid": "b1076dfc-b9ad-4769-8c92-a6c4dae69d19",
    "_uuid": "8f2839f25d086af736a60e9eeb907d3b93b6e0e5",
    "execution": {
     "iopub.execute_input": "2025-05-08T04:31:24.879967Z",
     "iopub.status.busy": "2025-05-08T04:31:24.879661Z",
     "iopub.status.idle": "2025-05-08T04:31:29.761249Z",
     "shell.execute_reply": "2025-05-08T04:31:29.760316Z"
    },
    "papermill": {
     "duration": 4.886798,
     "end_time": "2025-05-08T04:31:29.762993",
     "exception": false,
     "start_time": "2025-05-08T04:31:24.876195",
     "status": "completed"
    },
    "tags": []
   },
   "outputs": [
    {
     "name": "stdout",
     "output_type": "stream",
     "text": [
      "/kaggle/input/house-prices-advanced-regression-techniques/sample_submission.csv\n",
      "/kaggle/input/house-prices-advanced-regression-techniques/data_description.txt\n",
      "/kaggle/input/house-prices-advanced-regression-techniques/train.csv\n",
      "/kaggle/input/house-prices-advanced-regression-techniques/test.csv\n"
     ]
    }
   ],
   "source": [
    "\n",
    "\n",
    "import pandas as pd\n",
    "import numpy as np\n",
    "from sklearn.model_selection import train_test_split, cross_val_score\n",
    "from sklearn.pipeline import Pipeline\n",
    "from sklearn.compose import ColumnTransformer\n",
    "from sklearn.impute import SimpleImputer\n",
    "from sklearn.preprocessing import StandardScaler, OneHotEncoder\n",
    "from sklearn.metrics import mean_absolute_error, mean_squared_log_error\n",
    "from xgboost import XGBRegressor\n",
    "import category_encoders as ce\n",
    "\n",
    "\n",
    "import os\n",
    "for dirname, _, filenames in os.walk('/kaggle/input'):\n",
    "    for filename in filenames:\n",
    "        print(os.path.join(dirname, filename))\n",
    "\n"
   ]
  },
  {
   "cell_type": "code",
   "execution_count": 2,
   "id": "7e4e10c0",
   "metadata": {
    "execution": {
     "iopub.execute_input": "2025-05-08T04:31:29.768359Z",
     "iopub.status.busy": "2025-05-08T04:31:29.767915Z",
     "iopub.status.idle": "2025-05-08T04:31:31.196862Z",
     "shell.execute_reply": "2025-05-08T04:31:31.195676Z"
    },
    "papermill": {
     "duration": 1.433462,
     "end_time": "2025-05-08T04:31:31.198825",
     "exception": false,
     "start_time": "2025-05-08T04:31:29.765363",
     "status": "completed"
    },
    "tags": []
   },
   "outputs": [
    {
     "name": "stdout",
     "output_type": "stream",
     "text": [
      "Validation MAE: 15150.61\n",
      "Validation RMSLE: 0.122890\n",
      "Submission file created: submission.csv\n"
     ]
    }
   ],
   "source": [
    "train_df = pd.read_csv('/kaggle/input/house-prices-advanced-regression-techniques/train.csv')\n",
    "test_df = pd.read_csv('/kaggle/input/house-prices-advanced-regression-techniques/test.csv')\n",
    "\n",
    "\n",
    "train_df.dropna(axis=0, subset=['SalePrice'], inplace=True)\n",
    "y = np.log(train_df['SalePrice'])  # Log transform target\n",
    "\n",
    "for df in [train_df, test_df]:\n",
    "    df['TotalSF'] = df['TotalBsmtSF'].fillna(0) + df['1stFlrSF'].fillna(0) + df['2ndFlrSF'].fillna(0)\n",
    "    df['HasGarage'] = (df['GarageArea'].fillna(0) > 0).astype(int)\n",
    "\n",
    "X = train_df.drop('SalePrice', axis=1)\n",
    "\n",
    "\n",
    "low_card_cat_cols = [col for col in X.columns if X[col].dtype == \"object\" and X[col].nunique() < 10]\n",
    "high_card_cat_cols = [col for col in X.columns if X[col].dtype == \"object\" and X[col].nunique() >= 10]\n",
    "numerical_cols = [col for col in X.columns if X[col].dtype in [\"int64\", \"float64\"]] + ['TotalSF', 'HasGarage']\n",
    "selected_cols = list(set(low_card_cat_cols + numerical_cols + high_card_cat_cols))\n",
    "X = X[selected_cols].copy()\n",
    "\n",
    "\n",
    "X_train, X_valid, y_train, y_valid = train_test_split(X, y, test_size=0.2, random_state=2)\n",
    "\n",
    "\n",
    "numeric_transformer = Pipeline(steps=[\n",
    "    ('imputer', SimpleImputer(strategy='median')),\n",
    "    ('scaler', StandardScaler())\n",
    "])\n",
    "\n",
    "low_card_cat_transformer = Pipeline(steps=[\n",
    "    ('imputer', SimpleImputer(strategy='most_frequent')),\n",
    "    ('onehot', OneHotEncoder(handle_unknown='ignore'))\n",
    "])\n",
    "\n",
    "high_card_cat_transformer = Pipeline(steps=[\n",
    "    ('imputer', SimpleImputer(strategy='most_frequent')),\n",
    "    ('target', ce.TargetEncoder())\n",
    "])\n",
    "\n",
    "preprocessor = ColumnTransformer(transformers=[\n",
    "    ('num', numeric_transformer, numerical_cols),\n",
    "    ('low_card_cat', low_card_cat_transformer, low_card_cat_cols),\n",
    "    ('high_card_cat', high_card_cat_transformer, high_card_cat_cols)\n",
    "])\n",
    "\n",
    "\n",
    "for col in low_card_cat_cols + high_card_cat_cols:\n",
    "    X_train[col] = X_train[col].astype('category')\n",
    "    X_valid[col] = X_valid[col].astype('category')\n",
    "\n",
    "# Define the model with enable_categorical=True\n",
    "model = XGBRegressor(random_state=2, enable_categorical=True, n_estimators=500, learning_rate=0.03, max_depth=3)\n",
    "\n",
    "\n",
    "pipeline = Pipeline(steps=[\n",
    "    ('preprocessor', preprocessor),\n",
    "    ('model', model)\n",
    "])\n",
    "\n",
    "\n",
    "preprocessor.fit(X_train, y_train)\n",
    "X_valid_transformed = preprocessor.transform(X_valid)\n",
    "\n",
    "\n",
    "pipeline.fit(\n",
    "    X_train, y_train,\n",
    "    model__eval_set=[(X_valid_transformed, y_valid)],\n",
    "    model__verbose=False\n",
    ")\n",
    "\n",
    "\n",
    "preds_log = pipeline.predict(X_valid)\n",
    "preds = np.exp(preds_log)\n",
    "actual = np.exp(y_valid)\n",
    "\n",
    "mae = mean_absolute_error(actual, preds)\n",
    "rmsle = np.sqrt(mean_squared_log_error(actual, preds))\n",
    "print(f\"Validation MAE: {mae:.2f}\")\n",
    "print(f\"Validation RMSLE: {rmsle:.6f}\")\n",
    "\n",
    "\n",
    "test_X = test_df[selected_cols].copy()\n",
    "test_preds = np.exp(pipeline.predict(test_X))\n",
    "\n",
    "\n",
    "submission = pd.DataFrame({\n",
    "    'Id': test_df['Id'],\n",
    "    'SalePrice': test_preds\n",
    "})\n",
    "submission.to_csv('submission.csv', index=False)\n",
    "print(\"Submission file created: submission.csv\")\n",
    "\n",
    "\n",
    "\n",
    "\n",
    "\n",
    "\n"
   ]
  },
  {
   "cell_type": "markdown",
   "id": "86dffc42",
   "metadata": {
    "papermill": {
     "duration": 0.001726,
     "end_time": "2025-05-08T04:31:31.202632",
     "exception": false,
     "start_time": "2025-05-08T04:31:31.200906",
     "status": "completed"
    },
    "tags": []
   },
   "source": [
    "\n",
    "\n",
    "\n",
    "**Finding best hyperparameters for the model**"
   ]
  },
  {
   "cell_type": "code",
   "execution_count": 3,
   "id": "ab23da16",
   "metadata": {
    "execution": {
     "iopub.execute_input": "2025-05-08T04:31:31.207927Z",
     "iopub.status.busy": "2025-05-08T04:31:31.207085Z",
     "iopub.status.idle": "2025-05-08T04:34:42.472614Z",
     "shell.execute_reply": "2025-05-08T04:34:42.471521Z"
    },
    "papermill": {
     "duration": 191.271091,
     "end_time": "2025-05-08T04:34:42.475560",
     "exception": false,
     "start_time": "2025-05-08T04:31:31.204469",
     "status": "completed"
    },
    "tags": []
   },
   "outputs": [
    {
     "name": "stdout",
     "output_type": "stream",
     "text": [
      "Fitting 5 folds for each of 36 candidates, totalling 180 fits\n",
      "Best hyperparameters found: {'learning_rate': 0.03, 'max_depth': 3, 'n_estimators': 500}\n"
     ]
    }
   ],
   "source": [
    "from sklearn.model_selection import GridSearchCV\n",
    "param_grid = {\n",
    "    'n_estimators': [100, 200, 500],  # You can adjust the range based on your results\n",
    "    'learning_rate': [0.01, 0.03, 0.1],  # Experiment with a few values\n",
    "    'max_depth': [3, 5, 7, 10]  # Limit the depth of the trees to avoid overfitting\n",
    "}\n",
    "\n",
    "# Set up GridSearchCV\n",
    "grid_search = GridSearchCV(estimator=model, param_grid=param_grid, \n",
    "                           scoring='neg_mean_absolute_error',  # We want to minimize MAE\n",
    "                           cv=5,  # 5-fold cross-validation\n",
    "                           verbose=1, n_jobs=-1)\n",
    "\n",
    "# Fit the model to the training data\n",
    "grid_search.fit(X_train, y_train)\n",
    "\n",
    "# Get the best parameters\n",
    "print(\"Best hyperparameters found:\", grid_search.best_params_)\n"
   ]
  }
 ],
 "metadata": {
  "kaggle": {
   "accelerator": "none",
   "dataSources": [
    {
     "databundleVersionId": 868283,
     "sourceId": 5407,
     "sourceType": "competition"
    }
   ],
   "dockerImageVersionId": 31012,
   "isGpuEnabled": false,
   "isInternetEnabled": true,
   "language": "python",
   "sourceType": "notebook"
  },
  "kernelspec": {
   "display_name": "Python 3",
   "language": "python",
   "name": "python3"
  },
  "language_info": {
   "codemirror_mode": {
    "name": "ipython",
    "version": 3
   },
   "file_extension": ".py",
   "mimetype": "text/x-python",
   "name": "python",
   "nbconvert_exporter": "python",
   "pygments_lexer": "ipython3",
   "version": "3.11.11"
  },
  "papermill": {
   "default_parameters": {},
   "duration": 205.224713,
   "end_time": "2025-05-08T04:34:45.098045",
   "environment_variables": {},
   "exception": null,
   "input_path": "__notebook__.ipynb",
   "output_path": "__notebook__.ipynb",
   "parameters": {},
   "start_time": "2025-05-08T04:31:19.873332",
   "version": "2.6.0"
  }
 },
 "nbformat": 4,
 "nbformat_minor": 5
}
